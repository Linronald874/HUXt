{
 "cells": [
  {
   "cell_type": "code",
   "execution_count": 1,
   "metadata": {},
   "outputs": [],
   "source": [
    "import numpy as np\n",
    "import matplotlib.pyplot as plt\n",
    "import HUXt as H\n",
    "import astropy.units as u\n",
    "%matplotlib inline"
   ]
  },
  {
   "cell_type": "code",
   "execution_count": 2,
   "metadata": {},
   "outputs": [
    {
     "ename": "AttributeError",
     "evalue": "module 'HUXt' has no attribute 'HUXt2DCME'",
     "output_type": "error",
     "traceback": [
      "\u001b[1;31m---------------------------------------------------------------------------\u001b[0m",
      "\u001b[1;31mAttributeError\u001b[0m                            Traceback (most recent call last)",
      "\u001b[1;32m<ipython-input-2-2f2a9b3a891e>\u001b[0m in \u001b[0;36m<module>\u001b[1;34m\u001b[0m\n\u001b[0;32m     15\u001b[0m \u001b[1;33m\u001b[0m\u001b[0m\n\u001b[0;32m     16\u001b[0m \u001b[1;31m# Set up HUXt to run a simulation for 5 days, and output model data every 4 timesteps (about 35min)\u001b[0m\u001b[1;33m\u001b[0m\u001b[1;33m\u001b[0m\u001b[1;33m\u001b[0m\u001b[0m\n\u001b[1;32m---> 17\u001b[1;33m \u001b[0mcone_model\u001b[0m \u001b[1;33m=\u001b[0m \u001b[0mH\u001b[0m\u001b[1;33m.\u001b[0m\u001b[0mHUXt2DCME\u001b[0m\u001b[1;33m(\u001b[0m\u001b[0msimtime\u001b[0m\u001b[1;33m=\u001b[0m\u001b[1;36m5\u001b[0m\u001b[1;33m,\u001b[0m \u001b[0mdt_scale\u001b[0m\u001b[1;33m=\u001b[0m\u001b[1;36m4\u001b[0m\u001b[1;33m)\u001b[0m\u001b[1;33m\u001b[0m\u001b[1;33m\u001b[0m\u001b[0m\n\u001b[0m\u001b[0;32m     18\u001b[0m \u001b[1;31m# Run the model, with a tag to go on output filename\u001b[0m\u001b[1;33m\u001b[0m\u001b[1;33m\u001b[0m\u001b[1;33m\u001b[0m\u001b[0m\n\u001b[0;32m     19\u001b[0m \u001b[0mtag\u001b[0m \u001b[1;33m=\u001b[0m \u001b[1;34m\"\"\u001b[0m\u001b[1;33m\u001b[0m\u001b[1;33m\u001b[0m\u001b[0m\n",
      "\u001b[1;31mAttributeError\u001b[0m: module 'HUXt' has no attribute 'HUXt2DCME'"
     ]
    }
   ],
   "source": [
    "# Create a the inner boundary solar wind condition (this must be 128 in size)\n",
    "v_boundary = np.ones(128) * 400 * u.km/u.s\n",
    "# Add two fast streams\n",
    "v_boundary[10:20] = v_boundary[10:20] * 2.0\n",
    "v_boundary[60:80] = v_boundary[60:80] * 1.8\n",
    "\n",
    "# Get a list of different CMEs with random launch longitudes and times\n",
    "cme_list=[]\n",
    "launch_lons = np.random.rand(5) * 360\n",
    "daysec = 86400\n",
    "launch_times = 0.25  + np.random.rand(5) * 3.5 * daysec\n",
    "for lon, t_launch in zip(launch_lons, launch_times):\n",
    "    cme = H.ConeCME(t_launch=t_launch, longitude=lon, width=30, v=1000, thickness=10)\n",
    "    cme_list.append(cme)\n",
    "\n",
    "# Set up HUXt to run a simulation for 5 days, and output model data every 4 timesteps (about 35min)\n",
    "cone_model = H.HUXt2D(simtime=5, dt_scale=4)\n",
    "# Run the model, with a tag to go on output filename\n",
    "tag = \"\"\n",
    "cone_model.solve(v_boundary, cme_list, save=False, tag=tag) \n",
    "# Make an MP4 of the solution with CME\n",
    "output_tag = \"test_cone_run\".format(lon)\n",
    "cone_model.animate('cme', output_tag)\n",
    "\n"
   ]
  },
  {
   "cell_type": "code",
   "execution_count": null,
   "metadata": {},
   "outputs": [],
   "source": [
    "# Output a plot of the model output at the 100th timestep\n",
    "cone_model.plot(100)"
   ]
  }
 ],
 "metadata": {
  "kernelspec": {
   "display_name": "Python 3",
   "language": "python",
   "name": "python3"
  },
  "language_info": {
   "codemirror_mode": {
    "name": "ipython",
    "version": 3
   },
   "file_extension": ".py",
   "mimetype": "text/x-python",
   "name": "python",
   "nbconvert_exporter": "python",
   "pygments_lexer": "ipython3",
   "version": "3.7.3"
  }
 },
 "nbformat": 4,
 "nbformat_minor": 4
}
