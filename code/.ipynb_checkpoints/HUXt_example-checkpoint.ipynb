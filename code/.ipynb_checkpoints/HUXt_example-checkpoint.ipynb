{
 "cells": [
  {
   "cell_type": "code",
   "execution_count": 1,
   "metadata": {},
   "outputs": [],
   "source": [
    "import numpy as np\n",
    "import matplotlib.pyplot as plt\n",
    "import HUXt as H\n",
    "import astropy.units as u\n",
    "%matplotlib inline"
   ]
  },
  {
   "cell_type": "code",
   "execution_count": 2,
   "metadata": {},
   "outputs": [
    {
     "name": "stdout",
     "output_type": "stream",
     "text": [
      "Warning: C:\\Users\\yq904481\\PycharmProjects\\HUXt\\data\\HUXt2DCME_multi_cme_test.hdf5 already exists. Overwriting\n",
      "Moviepy - Building video C:\\Users\\yq904481\\PycharmProjects\\HUXt\\figures\\HUXt2DCME_cone_run_movie.mp4.\n",
      "Moviepy - Writing video C:\\Users\\yq904481\\PycharmProjects\\HUXt\\figures\\HUXt2DCME_cone_run_movie.mp4\n",
      "\n"
     ]
    },
    {
     "name": "stderr",
     "output_type": "stream",
     "text": [
      "                                                                                                                       \r"
     ]
    },
    {
     "name": "stdout",
     "output_type": "stream",
     "text": [
      "Moviepy - Done !\n",
      "Moviepy - video ready C:\\Users\\yq904481\\PycharmProjects\\HUXt\\figures\\HUXt2DCME_cone_run_movie.mp4\n",
      "Moviepy - Building video C:\\Users\\yq904481\\PycharmProjects\\HUXt\\figures\\HUXt2DCME_ambient_movie.mp4.\n",
      "Moviepy - Writing video C:\\Users\\yq904481\\PycharmProjects\\HUXt\\figures\\HUXt2DCME_ambient_movie.mp4\n",
      "\n"
     ]
    },
    {
     "name": "stderr",
     "output_type": "stream",
     "text": [
      "                                                                                                                       \r"
     ]
    },
    {
     "name": "stdout",
     "output_type": "stream",
     "text": [
      "Moviepy - Done !\n",
      "Moviepy - video ready C:\\Users\\yq904481\\PycharmProjects\\HUXt\\figures\\HUXt2DCME_ambient_movie.mp4\n"
     ]
    }
   ],
   "source": [
    "# Create a the inner boundary solar wind condition (this must be 128 in size)\n",
    "v_boundary = np.ones(128) * 400 * u.km/u.s\n",
    "# Add two fast streams\n",
    "v_boundary[10:20] = v_boundary[10:20] * 2.0\n",
    "v_boundary[60:80] = v_boundary[60:80] * 2.0\n",
    "\n",
    "# Get a list of different CMEs to include in the model.\n",
    "daysec = 86400\n",
    "cme1 = H.ConeCME(t_launch=0.5*daysec, longitude=0, width=40, v=700, thickness=10)\n",
    "cme2 = H.ConeCME(t_launch=daysec, longitude=90, width=40, v=1000, thickness=20)\n",
    "cme_list = [cme1, cme2]\n",
    "\n",
    "# Set up HUXt to run a simulation for 5 days, and output model data every 4 timesteps (about 35min)\n",
    "cone_model = H.HUXt2DCME(simtime=5, dt_scale=4)\n",
    "# Run the model, with a tag to go on output filename\n",
    "tag = \"multi_cme_test\"\n",
    "cone_model.solve_cone_cme(v_boundary, cme_list, save=True, tag=tag) \n",
    "# Make an MP4 of the solution with CME\n",
    "tag = \"cone_run\"\n",
    "cone_model.animate('cme', tag)\n",
    "# Make an MP4 of the solution of ambient wind\n",
    "tag = 'ambient'\n",
    "cone_model.animate('ambient', tag)\n",
    "\n"
   ]
  },
  {
   "cell_type": "code",
   "execution_count": 3,
   "metadata": {},
   "outputs": [],
   "source": [
    "vb, cme, cone_model = H.load_cone_cme_run('C:\\\\Users\\\\yq904481\\\\PycharmProjects\\\\HUXt\\\\data\\\\HUXt2DCME_multi_cme_test.hdf5')"
   ]
  },
  {
   "cell_type": "code",
   "execution_count": 4,
   "metadata": {},
   "outputs": [
    {
     "data": {
      "text/latex": [
       "$259200 \\; \\mathrm{s}$"
      ],
      "text/plain": [
       "<Quantity 259200. s>"
      ]
     },
     "execution_count": 4,
     "metadata": {},
     "output_type": "execute_result"
    }
   ],
   "source": [
    "cone_model.simtime"
   ]
  }
 ],
 "metadata": {
  "kernelspec": {
   "display_name": "Python 3",
   "language": "python",
   "name": "python3"
  },
  "language_info": {
   "codemirror_mode": {
    "name": "ipython",
    "version": 3
   },
   "file_extension": ".py",
   "mimetype": "text/x-python",
   "name": "python",
   "nbconvert_exporter": "python",
   "pygments_lexer": "ipython3",
   "version": "3.7.3"
  }
 },
 "nbformat": 4,
 "nbformat_minor": 4
}
