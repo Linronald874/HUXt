{
 "cells": [
  {
   "cell_type": "code",
   "execution_count": 1,
   "metadata": {},
   "outputs": [],
   "source": [
    "import numpy as np\n",
    "import matplotlib.pyplot as plt\n",
    "import HUXt as H\n",
    "import astropy.units as u\n",
    "%matplotlib inline"
   ]
  },
  {
   "cell_type": "code",
   "execution_count": 2,
   "metadata": {},
   "outputs": [],
   "source": [
    "v_boundary = np.ones(128) * 400 * u.km/u.s\n",
    "# Get a list of different CMEs to include in the model.\n",
    "daysec = 86400\n",
    "cme1 = H.ConeCME(t_launch=0.5*daysec, longitude=0, width=40, v=700, thickness=10)\n",
    "cme_list = [cme1]\n",
    "\n",
    "# Set up HUXt to run a simulation for 5 days, and output model data every 4 timesteps (about 35min)\n",
    "cone_model = H.HUXt2DCME(simtime=0.5, dt_scale=4)\n",
    "cone_model.solve_cone_cme(v_boundary, cme_list, save=False) \n"
   ]
  },
  {
   "cell_type": "code",
   "execution_count": 3,
   "metadata": {},
   "outputs": [
    {
     "data": {
      "text/plain": [
       "[<matplotlib.lines.Line2D at 0x281c53bbba8>]"
      ]
     },
     "execution_count": 3,
     "metadata": {},
     "output_type": "execute_result"
    },
    {
     "data": {
      "image/png": "[encoded data removed]",
      "text/plain": [
       "<Figure size 432x288 with 1 Axes>"
      ]
     },
     "metadata": {
      "needs_background": "light"
     },
     "output_type": "display_data"
    }
   ],
   "source": [
    "fig, ax = plt.subplots()\n",
    "ax.plot(cone_model.r.value, cone_model.v_grid_amb[0,:,0], 'k-')\n",
    "ax.plot(cone_model.r.value, cone_model.v_grid_amb[0,:,10], 'r.')"
   ]
  },
  {
   "cell_type": "code",
   "execution_count": 5,
   "metadata": {},
   "outputs": [
    {
     "name": "stdout",
     "output_type": "stream",
     "text": [
      "Moviepy - Building video C:\\Users\\yq904481\\PycharmProjects\\HUXt\\figures\\HUXt2DCME_cone_run_movie.mp4.\n",
      "Moviepy - Writing video C:\\Users\\yq904481\\PycharmProjects\\HUXt\\figures\\HUXt2DCME_cone_run_movie.mp4\n",
      "\n"
     ]
    },
    {
     "name": "stderr",
     "output_type": "stream",
     "text": [
      "                                                                                                                       \r"
     ]
    },
    {
     "name": "stdout",
     "output_type": "stream",
     "text": [
      "Moviepy - Done !\n",
      "Moviepy - video ready C:\\Users\\yq904481\\PycharmProjects\\HUXt\\figures\\HUXt2DCME_cone_run_movie.mp4\n",
      "Moviepy - Building video C:\\Users\\yq904481\\PycharmProjects\\HUXt\\figures\\HUXt2DCME_ambient_movie.mp4.\n",
      "Moviepy - Writing video C:\\Users\\yq904481\\PycharmProjects\\HUXt\\figures\\HUXt2DCME_ambient_movie.mp4\n",
      "\n"
     ]
    },
    {
     "name": "stderr",
     "output_type": "stream",
     "text": [
      "                                                                                                                       \r"
     ]
    },
    {
     "name": "stdout",
     "output_type": "stream",
     "text": [
      "Moviepy - Done !\n",
      "Moviepy - video ready C:\\Users\\yq904481\\PycharmProjects\\HUXt\\figures\\HUXt2DCME_ambient_movie.mp4\n"
     ]
    }
   ],
   "source": [
    "# Create a the inner boundary solar wind condition (this must be 128 in size)\n",
    "v_boundary = np.ones(128) * 400 * u.km/u.s\n",
    "# Add two fast streams\n",
    "v_boundary[10:20] = v_boundary[10:20] * 2.0\n",
    "v_boundary[60:80] = v_boundary[60:80] * 2.0\n",
    "\n",
    "# Get a list of different CMEs to include in the model.\n",
    "daysec = 86400\n",
    "cme1 = H.ConeCME(t_launch=0.5*daysec, longitude=0, width=40, v=700, thickness=10)\n",
    "cme_list = [cme1]\n",
    "\n",
    "# Set up HUXt to run a simulation for 5 days, and output model data every 4 timesteps (about 35min)\n",
    "cone_model = H.HUXt2DCME(simtime=5, dt_scale=4)\n",
    "# Run the model, with a tag to go on output filename\n",
    "tag = \"accel_test\"\n",
    "cone_model.solve_cone_cme(v_boundary, cme_list, save=False, tag=tag) \n",
    "# Make an MP4 of the solution with CME\n",
    "tag = \"cone_run\"\n",
    "cone_model.animate('cme', tag)\n",
    "# Make an MP4 of the solution of ambient wind\n",
    "tag = 'ambient'\n",
    "cone_model.animate('ambient', tag)\n",
    "\n"
   ]
  },
  {
   "cell_type": "raw",
   "metadata": {},
   "source": [
    "# Load in the model data we just made\n",
    "vb, cme, cone_model = H.load_cone_cme_run('C:\\\\Users\\\\yq904481\\\\PycharmProjects\\\\HUXt\\\\data\\\\HUXt2DCME_homogenous_vboundary.hdf5')"
   ]
  },
  {
   "cell_type": "code",
   "execution_count": null,
   "metadata": {},
   "outputs": [],
   "source": []
  },
  {
   "cell_type": "code",
   "execution_count": 4,
   "metadata": {},
   "outputs": [],
   "source": [
    "#cehck acceleration"
   ]
  }
 ],
 "metadata": {
  "kernelspec": {
   "display_name": "Python 3",
   "language": "python",
   "name": "python3"
  },
  "language_info": {
   "codemirror_mode": {
    "name": "ipython",
    "version": 3
   },
   "file_extension": ".py",
   "mimetype": "text/x-python",
   "name": "python",
   "nbconvert_exporter": "python",
   "pygments_lexer": "ipython3",
   "version": "3.7.3"
  }
 },
 "nbformat": 4,
 "nbformat_minor": 4
}
