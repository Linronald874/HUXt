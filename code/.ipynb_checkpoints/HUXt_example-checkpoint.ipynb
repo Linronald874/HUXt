{
 "cells": [
  {
   "cell_type": "code",
   "execution_count": 1,
   "metadata": {},
   "outputs": [],
   "source": [
    "import numpy as np\n",
    "import matplotlib.pyplot as plt\n",
    "import matplotlib as mpl\n",
    "import HUXt as H\n",
    "import astropy.units as u\n",
    "%matplotlib inline"
   ]
  },
  {
   "cell_type": "raw",
   "metadata": {},
   "source": [
    "# Set up HUXt to run a 5 day simulation of carrington rotations 2000-2002, and output model data every 4 timesteps (about 35min)\n",
    "cr_num = 1856\n",
    "model = H.HUXt2D(cr_num, simtime=5, dt_scale=4)\n",
    "\n",
    "# Get a list of different CMEs with random launch longitudes and times\n",
    "cme_list=[]\n",
    "launch_lons = np.random.rand(5) * 360\n",
    "daysec = 86400\n",
    "launch_times = 0.25  + np.random.rand(5) * 3.5 * daysec\n",
    "for lon, t_launch in zip(launch_lons, launch_times):\n",
    "    cme = H.ConeCME(t_launch=t_launch, longitude=lon, width=30, v=1000, thickness=10)\n",
    "    cme_list.append(cme)\n",
    "\n",
    "# Run HUXt for these cmes, save to file \n",
    "tag = 'test'\n",
    "model.solve(cme_list, save=True, tag=tag) \n",
    "\n",
    "# Make an MP4 of the solution with CME\n",
    "model.animate('cme', tag)\n",
    "\n",
    "# Output a plot of the model output at a few timesteps\n",
    "for t in [25,50,75,100]:\n",
    "    model.plot(t, save=True, tag='test')"
   ]
  },
  {
   "cell_type": "raw",
   "metadata": {},
   "source": [
    "# Convert the Mat's boundary conidtion files into hdf5 files\n",
    "\n",
    "lon, dlon, Nlon = H.longitude_grid()\n",
    "\n",
    "root = \"C:\\\\Users\\\\yq904481\\\\research\\\\repos\\\\HUXt\\\\data\\\\boundary_conditions\"\n",
    "search_str = os.path.join(root,\"CR*_veq.dat\" )    \n",
    "in_files = glob.glob(search_str)\n",
    "kms = u.km / u.s\n",
    "for file in in_files:\n",
    "    fn  = os.path.basename(file)\n",
    "    cr_tag = fn.split('_')[0]\n",
    "    cr_num = np.int32(cr_tag.split('R')[1])\n",
    "    v = np.loadtxt(file)\n",
    "    v = v * kms\n",
    "    \n",
    "    # Ouput a HDF5 file with this data\n",
    "    out_fn = os.path.join(root, cr_tag+\".hdf5\")\n",
    "    out_file = h5py.File(out_fn, 'w')\n",
    "    \n",
    "    # Save the input boundary speeds and corresponding carrington longitudes\n",
    "    dset = out_file.create_dataset(\"v_boundary\", data=v.value)\n",
    "    dset.attrs['unit'] = v.unit.to_string()\n",
    "    out_file.flush()\n",
    "    \n",
    "    dset = out_file.create_dataset(\"longitude\", data=lon.value)\n",
    "    dset.attrs['unit'] = lon.unit.to_string()\n",
    "    out_file.flush()\n",
    "    out_file.close()"
   ]
  },
  {
   "cell_type": "code",
   "execution_count": 19,
   "metadata": {},
   "outputs": [],
   "source": [
    "def cone_cme_boundary_1d(r_boundary, longitude, time, v_boundary, cme):    \n",
    "\n",
    "    # Center the longitude array on CME nose, running from -pi to pi, to avoid dealing with any 0/2pi crossings\n",
    "    lon_cent = longitude - cme.longitude\n",
    "    id_high = lon_cent > np.pi*u.rad\n",
    "    lon_cent[id_high] = 2.0*np.pi*u.rad - lon_cent[id_high]\n",
    "    id_low = lon_cent < -np.pi*u.rad\n",
    "    lon_cent[id_low] = lon_cent[id_low] + 2.0*np.pi*u.rad \n",
    "    \n",
    "    if (lon_cent >= -cme.width/2) & (lon_cent <= cme.width/2):\n",
    "        # Longitude inside CME span.\n",
    "\n",
    "        #  Compute y, the height of CME nose above the 30rS surface\n",
    "        y = cme.v*(time - cme.t_launch)\n",
    "        x = np.NaN*y.unit\n",
    "        if (y >= 0*u.km) & (y < cme.radius):  # this is the front hemisphere of the spherical CME\n",
    "            x = np.sqrt(y*(2*cme.radius - y))  # compute x, the distance of the current longitude from the nose\n",
    "        elif (y >= (cme.radius + cme.thickness)) & (y <= (2*cme.radius + cme.thickness)):  # this is the back hemisphere of the spherical CME\n",
    "            y = y - cme.thickness\n",
    "            x = np.sqrt(y*(2*cme.radius - y))\n",
    "        elif (cme.thickness > 0*u.km) & (y >= cme.radius) & (y <= (cme.radius + cme.thickness)):  # this is the \"mass\" between the hemispheres\n",
    "            x = cme.radius\n",
    "            \n",
    "        theta = np.arctan(x / r_boundary)\n",
    "        if (lon_cent >= - theta) & (lon_cent <= theta):\n",
    "            v_boundary = cme.v\n",
    "            \n",
    "    return v_boundary\n"
   ]
  },
  {
   "cell_type": "code",
   "execution_count": 68,
   "metadata": {},
   "outputs": [],
   "source": [
    "cme = H.ConeCME(t_launch=10000, longitude=40.0, width=30, v=1000, thickness=10)\n",
    "cme_list_checked = [cme]\n",
    "# Check only cone cmes in cme list \n",
    "model = H.HUXt1D(2000, lon=0.0, simtime=5.0, dt_scale=4.0)\n",
    "buffersteps = np.fix( (5.0*u.day).to(u.s) / model.dt)\n",
    "buffertime = buffersteps*model.dt\n",
    "time = np.arange(-buffertime.value, model.simtime.value + model.dt.value, model.dt.value) * model.dt.unit\n",
    "\n",
    "dlondt = model.twopi * model.dt / model.synodic_period\n",
    "lon, dlon, Nlon = H.longitude_grid()\n",
    "\n",
    "# How many radians of carrington rotation in this simulation length\n",
    "simlon = model.twopi * model.simtime / model.synodic_period\n",
    "# How many radians of carrington rotation in the spinup period\n",
    "bufferlon = model.twopi * buffertime / model.synodic_period\n",
    "# Find the carrigton longitude range spanned by the spinup and simulation period, centered on simulation longitude\n",
    "lonint = np.arange(model.lon.value-bufferlon, model.lon.value + simlon+dlondt, dlondt)\n",
    "# Rectify so that it is between 0 - 2pi\n",
    "loninit = H._zerototwopi_(lonint)\n",
    "# Interpolate the inner boundary speed to this higher resolution\n",
    "vinit = np.interp(loninit, lon.value, model.v_boundary.value, period=model.twopi) * model.kms\n",
    "# convert from cr longitude to time\n",
    "vinput = np.flipud(vinit)\n",
    "\n",
    "# ----------------------------------------------------------------------------------------\n",
    "# Main model loop\n",
    "# ----------------------------------------------------------------------------------------\n",
    "iter_count = 0\n",
    "i_out = 0\n",
    "for i, t in enumerate(time):\n",
    "            \n",
    "    # Get the initial condition, which will update in the loop,\n",
    "    # and snapshots saved to output at right steps.\n",
    "    if i == 0:\n",
    "        v_cme = np.ones(model.Nr)*400*model.kms\n",
    "        v_amb = np.ones(model.Nr)*400*model.kms\n",
    "    \n",
    "    # Update the inner boundary conditions\n",
    "    v_amb[0] = vinput[i]\n",
    "    v_cme[0] = vinput[i]\n",
    "    # Add in the cone CME at the boundary\n",
    "    if t >= cme.t_launch:\n",
    "        for c in cme_list_checked:\n",
    "            r_boundary = model.r.min().to(u.km)\n",
    "            v_update_cme = cone_cme_boundary_1d(r_boundary, model.lon, t, v_cme[0], c)\n",
    "            \n",
    "        v_cme[0] = v_update_cme\n",
    "    \n",
    "    # update cone cme v(r) for the given longitude\n",
    "    # =====================================\n",
    "    u_up = v_cme[1:].copy()\n",
    "    u_dn = v_cme[:-1].copy()\n",
    "    u_up_next = H._upwind_step_(model, u_up, u_dn)\n",
    "    # Save the updated timestep\n",
    "    v_cme[1:] = u_up_next.copy()\n",
    "\n",
    "    u_up = v_amb[1:].copy()\n",
    "    u_dn = v_amb[:-1].copy()\n",
    "    u_up_next = H._upwind_step_(model, u_up, u_dn)\n",
    "    # Save the updated timestep\n",
    "    v_amb[1:] = u_up_next.copy()\n",
    "    \n",
    "    # Save this frame to output if output timestep is a factor of time elapsed \n",
    "    if t > 0:\n",
    "        iter_count = iter_count + 1\n",
    "        if iter_count == model.dt_scale.value:\n",
    "            if i_out <= model.Nt_out - 1:\n",
    "                model.v_grid_cme[i_out, :] = v_cme.copy()\n",
    "                model.v_grid_amb[i_out, :] = v_amb.copy()\n",
    "                i_out = i_out + 1\n",
    "                iter_count = 0"
   ]
  },
  {
   "cell_type": "code",
   "execution_count": 37,
   "metadata": {},
   "outputs": [
    {
     "name": "stdout",
     "output_type": "stream",
     "text": [
      "(205, 140)\n",
      "205\n"
     ]
    }
   ],
   "source": [
    "print(model.v_grid_cme.shape)\n",
    "print(model.Nt_out)"
   ]
  },
  {
   "cell_type": "code",
   "execution_count": 69,
   "metadata": {},
   "outputs": [
    {
     "data": {
      "text/plain": [
       "[<matplotlib.lines.Line2D at 0x2381fe01860>]"
      ]
     },
     "execution_count": 69,
     "metadata": {},
     "output_type": "execute_result"
    },
    {
     "data": {
      "image/png": "[encoded data removed]",
      "text/plain": [
       "<Figure size 432x288 with 1 Axes>"
      ]
     },
     "metadata": {
      "needs_background": "light"
     },
     "output_type": "display_data"
    }
   ],
   "source": [
    "\n",
    "plt.plot(model.v_grid_cme[ii,:],'k-')\n",
    "plt.plot(model.v_grid_amb[ii,:],'r--')"
   ]
  },
  {
   "cell_type": "code",
   "execution_count": 70,
   "metadata": {},
   "outputs": [
    {
     "data": {
      "text/latex": [
       "$[416.72801,~413.42865,~410.19934,~\\dots,~557.88349,~551.09571,~544.3778] \\; \\mathrm{\\frac{km}{s}}$"
      ],
      "text/plain": [
       "<Quantity [416.72800672, 413.42865378, 410.1993441 , 407.03903657,\n",
       "           403.94669435, 400.92128584, 397.96178573, 395.06717606,\n",
       "           392.23644726, 389.4685989 , 386.76264032, 384.11759102,\n",
       "           381.53248079, 379.00634972, 376.53824808, 374.12723609,\n",
       "           371.77238374, 369.47277067, 367.22748618, 365.0356294 ,\n",
       "           362.8963097 , 360.80864737, 358.77177454, 356.78483649,\n",
       "           354.84699328, 352.9574217 , 351.11531766, 349.31989892,\n",
       "           347.57040833, 345.86611729, 344.20632978, 342.59038663,\n",
       "           341.01767007, 339.48760848, 337.9996812 , 336.55342316,\n",
       "           335.14842921, 333.78435788, 332.46093419, 331.17795137,\n",
       "           329.93527111, 328.73282201, 327.57059602, 326.44864255,\n",
       "           325.36706016, 324.3259856 , 323.32558021, 322.36601379,\n",
       "           321.44744591, 320.57000511, 319.73376631, 318.93872682,\n",
       "           318.18478178, 317.47169959, 316.79909824, 316.16642354,\n",
       "           315.57293006, 315.017666  , 314.4994627 , 314.01692988,\n",
       "           313.56845714, 313.15222227, 312.76620654, 312.40821673,\n",
       "           312.07591353, 311.76684527, 311.47848586, 311.2082754 ,\n",
       "           310.95366178, 310.7121415 , 310.48129795, 310.25883565,\n",
       "           310.04260901, 309.83064472, 309.62115732, 309.41255756,\n",
       "           309.20345413, 308.99264929, 308.77912934, 308.56205117,\n",
       "           308.34072618, 308.11460265, 307.88324802, 307.64633179,\n",
       "           307.40361008, 307.15491216, 306.90012941, 306.63920657,\n",
       "           306.37213526, 306.09894931, 305.81972151, 305.53456128,\n",
       "           305.24361268, 304.94705243, 304.64508747, 304.33795185,\n",
       "           304.02590281, 303.70921603, 303.38818023, 303.06309131,\n",
       "           302.73424637, 302.40193801, 302.06644934, 301.72805009,\n",
       "           301.38699429, 301.04351982, 300.69785014, 300.35019847,\n",
       "           300.00077437, 299.64979294, 299.29748631, 298.94411748,\n",
       "           298.58999601, 298.23549547, 297.88107206, 297.52728416,\n",
       "           297.17481248, 296.8244803 , 296.47727363, 296.13436113,\n",
       "           295.79711353, 295.46712266, 295.14622022, 294.83649647,\n",
       "           294.54031948, 294.26035538, 293.99959075, 293.76135824,\n",
       "           293.54936704, 293.36774049, 293.22106344, 293.11444338,\n",
       "           293.05359025, 293.04492199, 293.09570532, 293.21424497,\n",
       "           293.41014025, 293.69463552, 294.08110323, 294.58571634,\n",
       "           295.22839411, 296.03414871, 297.03502746, 298.2729538 ,\n",
       "           299.80394533, 301.70447159, 304.0811787 , 307.08595438,\n",
       "           310.93946243, 315.96789086, 322.65930234, 331.74542962,\n",
       "           344.30453683, 361.84174165, 386.20233716, 419.01618298,\n",
       "           460.39557176, 507.40915456, 554.22400975, 594.99948657,\n",
       "           626.91719898, 650.34848105, 667.1058797 , 679.03679239,\n",
       "           687.54275953, 693.59050737, 697.83722965, 700.73552746,\n",
       "           702.60147597, 703.65779444, 704.06280533, 703.93044225,\n",
       "           703.34345077, 702.36119383, 701.02383715, 699.35501778,\n",
       "           697.36481179, 695.0539109 , 692.41878918, 689.4567976 ,\n",
       "           686.1699063 , 682.56623331, 678.65927709, 674.46552106,\n",
       "           670.00149933, 665.28140001, 660.31591925, 655.11255658,\n",
       "           649.67706283, 644.01546232, 638.13601768, 632.05065063,\n",
       "           625.77557729, 619.33116106, 612.74115838, 606.03160855,\n",
       "           599.22961249, 592.36218837, 585.45531937, 578.53324212,\n",
       "           571.61797606, 564.72906501, 557.88348997, 551.09571031,\n",
       "           544.37779506] km / s>"
      ]
     },
     "execution_count": 70,
     "metadata": {},
     "output_type": "execute_result"
    },
    {
     "data": {
      "image/png": "[encoded data removed]",
      "text/plain": [
       "<Figure size 432x288 with 1 Axes>"
      ]
     },
     "metadata": {
      "needs_background": "light"
     },
     "output_type": "display_data"
    }
   ],
   "source": [
    "plt.plot(model.v_grid_cme[:, 50],'k-')\n",
    "plt.plot(model.v_grid_amb[:, 50],'r--')\n",
    "\n",
    "model.v_grid_cme[:,50]"
   ]
  }
 ],
 "metadata": {
  "kernelspec": {
   "display_name": "Python 3",
   "language": "python",
   "name": "python3"
  },
  "language_info": {
   "codemirror_mode": {
    "name": "ipython",
    "version": 3
   },
   "file_extension": ".py",
   "mimetype": "text/x-python",
   "name": "python",
   "nbconvert_exporter": "python",
   "pygments_lexer": "ipython3",
   "version": "3.7.3"
  }
 },
 "nbformat": 4,
 "nbformat_minor": 4
}
