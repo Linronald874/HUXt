{
 "cells": [
  {
   "cell_type": "code",
   "execution_count": 1,
   "metadata": {},
   "outputs": [],
   "source": [
    "import numpy as np\n",
    "import matplotlib.pyplot as plt\n",
    "import matplotlib as mpl\n",
    "import moviepy.editor as mpy\n",
    "import os\n",
    "from moviepy.video.io.bindings import mplfig_to_npimage\n",
    "import HUXt as H\n",
    "import astropy.units as u\n",
    "from skimage import measure\n",
    "import scipy.ndimage as ndi\n",
    "%matplotlib inline"
   ]
  },
  {
   "cell_type": "markdown",
   "metadata": {},
   "source": [
    "Add in CME tracker.\n",
    " - identify contiguous regions between diff of ambient and cme fields.\n",
    " - count the cmes and label as they go out. \n",
    "Add in empirical rule for density of ambient and CME.\n",
    "Write Thomson scattering simulator for the 2-d solutions. "
   ]
  },
  {
   "cell_type": "code",
   "execution_count": 2,
   "metadata": {},
   "outputs": [],
   "source": [
    "# Set up HUXt1D to run a 5 day simulation of Carrington rotation 2000, and output model data every 4 timesteps (about 35min)\n",
    "cr_num = 2000\n",
    "lon = 0.0\n",
    "model1D = H.HUXt1D(cr_num, lon=lon, simtime=5, dt_scale=4)\n",
    "\n",
    "# Get a list of different CMEs with random launch longitudes and times\n",
    "cme_list=[]\n",
    "n_cme = 5\n",
    "launch_lons = [10 for i in range(n_cme)]\n",
    "#launch_lons = np.random.randint(0, 360, n_cme)\n",
    "daysec = 86400\n",
    "launch_times = [(0.25 + i*4/n_cme)*daysec for i in range(n_cme)]\n",
    "               \n",
    "for lon, t_launch in zip(launch_lons, launch_times):\n",
    "    #print(lon, t_launch)\n",
    "    cme = H.ConeCME(t_launch=t_launch, longitude=lon, width=30, v=1000, thickness=5)\n",
    "    cme_list.append(cme)\n",
    "    \n",
    "# Run HUXt1D for these cmes, save to file \n",
    "tag = 'test'\n",
    "model1D.solve(cme_list, save=False, tag=tag)"
   ]
  },
  {
   "cell_type": "code",
   "execution_count": 4,
   "metadata": {},
   "outputs": [
    {
     "name": "stdout",
     "output_type": "stream",
     "text": [
      "Warning: C:\\Users\\yq904481\\research\\repos\\HUXt\\data\\HUXt2D\\HUXt2D_CR2000_test_rand_lon.hdf5 already exists. Overwriting\n"
     ]
    },
    {
     "name": "stderr",
     "output_type": "stream",
     "text": [
      "t:   0%|                                                                             | 0/240 [00:00<?, ?it/s, now=None]"
     ]
    },
    {
     "name": "stdout",
     "output_type": "stream",
     "text": [
      "Moviepy - Building video C:\\Users\\yq904481\\research\\repos\\HUXt\\figures\\HUXt2D\\HUXt2D_CR2000_test_rand_lon_movie.mp4.\n",
      "Moviepy - Writing video C:\\Users\\yq904481\\research\\repos\\HUXt\\figures\\HUXt2D\\HUXt2D_CR2000_test_rand_lon_movie.mp4\n",
      "\n"
     ]
    },
    {
     "name": "stderr",
     "output_type": "stream",
     "text": [
      "                                                                                                                       \r"
     ]
    },
    {
     "name": "stdout",
     "output_type": "stream",
     "text": [
      "Moviepy - Done !\n",
      "Moviepy - video ready C:\\Users\\yq904481\\research\\repos\\HUXt\\figures\\HUXt2D\\HUXt2D_CR2000_test_rand_lon_movie.mp4\n"
     ]
    }
   ],
   "source": [
    "# Set up HUXt2D to run a simulation with the same parameters.\n",
    "model2D = H.HUXt2D(cr_num, simtime=5, dt_scale=4)\n",
    "\n",
    "# Run for the same list of cmes, save to file \n",
    "tag = 'test_rand_lon'\n",
    "model2D.solve(cme_list, save=True, tag=tag) \n",
    "\n",
    "# Make an MP4 of the solution with CME\n",
    "model2D.animate('cme', tag)"
   ]
  },
  {
   "cell_type": "code",
   "execution_count": 5,
   "metadata": {},
   "outputs": [],
   "source": [
    "import h5py"
   ]
  },
  {
   "cell_type": "code",
   "execution_count": 6,
   "metadata": {},
   "outputs": [],
   "source": [
    "data = h5py.File(\"C:\\\\Users\\\\yq904481\\\\research\\\\repos\\\\HUXt\\\\data\\\\HUXt2D\\\\HUXt2D_CR2000_test_rand_lon.hdf5\", 'r')"
   ]
  },
  {
   "cell_type": "code",
   "execution_count": 12,
   "metadata": {},
   "outputs": [],
   "source": [
    "# Load in the CME paramters\n",
    "cme_list = []\n",
    "\n",
    "all_cmes = data['ConeCMEs']\n",
    "for k in all_cmes.keys():\n",
    "    cme_data = all_cmes[k]\n",
    "    t_launch = cme_data['t_launch'][()]\n",
    "    lon = np.rad2deg(cme_data['longitude'][()])\n",
    "    width = np.rad2deg(cme_data['width'][()])\n",
    "    thickness = cme_data['thickness'][()] * u.Unit(cme_data['thickness'].attrs['unit'])\n",
    "    thickness = thickness.to('solRad').value\n",
    "    v = cme_data['v'][()]\n",
    "    cme = ConeCME(t_launch=t_launch, longitude=lon, v=v, width=width, thickness=thickness)\n",
    "\n",
    "    # Now sort out coordinates\n",
    "    coords_group = cme_data['coords']\n",
    "    coords_data = {j:{'lon_pix':np.array([])*u.pix, 'r_pix':np.array([])*u.pix,\n",
    "                 'lon':np.array([])*model2D.lon.unit,'r':np.array([])*model2D.r.unit} for j in range(len(coords))}\n",
    "\n",
    "    for time_key, pos in coords_group.items():\n",
    "        t = np.int(time_key.split(\"_\")[2])\n",
    "        coords_data[t]['lon_pix'] = pos['lon_pix'][()] * u.Unit(pos['lon_pix'].attrs['unit'])\n",
    "        coords_data[t]['r_pix'] = pos['r_pix'][()] * u.Unit(pos['r_pix'].attrs['unit'])\n",
    "        coords_data[t]['lon'] = pos['lon'][()] * u.Unit(pos['lon'].attrs['unit'])\n",
    "        coords_data[t]['r'] = pos['r'][()] * u.Unit(pos['r'].attrs['unit'])\n",
    "        \n",
    "    cme.coords = coords_data\n",
    "    cme_list.append(cme)\n"
   ]
  }
 ],
 "metadata": {
  "kernelspec": {
   "display_name": "Python 3",
   "language": "python",
   "name": "python3"
  },
  "language_info": {
   "codemirror_mode": {
    "name": "ipython",
    "version": 3
   },
   "file_extension": ".py",
   "mimetype": "text/x-python",
   "name": "python",
   "nbconvert_exporter": "python",
   "pygments_lexer": "ipython3",
   "version": "3.7.3"
  }
 },
 "nbformat": 4,
 "nbformat_minor": 4
}
