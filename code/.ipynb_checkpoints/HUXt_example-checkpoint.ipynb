{
 "cells": [
  {
   "cell_type": "code",
   "execution_count": 1,
   "metadata": {},
   "outputs": [],
   "source": [
    "import numpy as np\n",
    "import matplotlib as mpl\n",
    "import matplotlib.pyplot as plt\n",
    "import os\n",
    "import HUXt as H\n",
    "%matplotlib inline"
   ]
  },
  {
   "cell_type": "code",
   "execution_count": 2,
   "metadata": {},
   "outputs": [],
   "source": [
    "# Set up HUXt1D to run a 5 day simulation of Carrington rotation 2000, and output model data every 4 timesteps (about 35min)\n",
    "cr_num = 2000\n",
    "lon = 0.0\n",
    "model1D = H.HUXt1D(cr_num, lon=lon, simtime=5, dt_scale=4)\n",
    "\n",
    "# Get a list of different CMEs with random launch longitudes and times\n",
    "cme_list=[]\n",
    "n_cme = 5\n",
    "launch_lons = [10 for i in range(n_cme)]\n",
    "#launch_lons = np.random.randint(0, 360, n_cme)\n",
    "daysec = 86400\n",
    "launch_times = [(0.25 + i*4/n_cme)*daysec for i in range(n_cme)]\n",
    "               \n",
    "for lon, t_launch in zip(launch_lons, launch_times):\n",
    "    #print(lon, t_launch)\n",
    "    cme = H.ConeCME(t_launch=t_launch, longitude=lon, width=30, v=1000, thickness=5)\n",
    "    cme_list.append(cme)\n",
    "    \n",
    "# Run HUXt1D for these cmes, save to file \n",
    "tag = 'test'\n",
    "model1D.solve(cme_list, save=False, tag=tag)"
   ]
  },
  {
   "cell_type": "code",
   "execution_count": 3,
   "metadata": {},
   "outputs": [
    {
     "name": "stdout",
     "output_type": "stream",
     "text": [
      "Warning: C:\\Users\\yq904481\\research\\repos\\HUXt\\data\\HUXt2D\\HUXt2D_CR2000_test_rand_lon.hdf5 already exists. Overwriting\n"
     ]
    },
    {
     "name": "stderr",
     "output_type": "stream",
     "text": [
      "t:   0%|                                                                             | 0/240 [00:00<?, ?it/s, now=None]"
     ]
    },
    {
     "name": "stdout",
     "output_type": "stream",
     "text": [
      "Moviepy - Building video C:\\Users\\yq904481\\research\\repos\\HUXt\\figures\\HUXt2D\\HUXt2D_CR2000_test_rand_lon_movie.mp4.\n",
      "Moviepy - Writing video C:\\Users\\yq904481\\research\\repos\\HUXt\\figures\\HUXt2D\\HUXt2D_CR2000_test_rand_lon_movie.mp4\n",
      "\n"
     ]
    },
    {
     "name": "stderr",
     "output_type": "stream",
     "text": [
      "                                                                                                                       \r"
     ]
    },
    {
     "name": "stdout",
     "output_type": "stream",
     "text": [
      "Moviepy - Done !\n",
      "Moviepy - video ready C:\\Users\\yq904481\\research\\repos\\HUXt\\figures\\HUXt2D\\HUXt2D_CR2000_test_rand_lon_movie.mp4\n"
     ]
    }
   ],
   "source": [
    "# Set up HUXt2D to run a simulation with the same parameters.\n",
    "model2D = H.HUXt2D(cr_num, simtime=5, dt_scale=4)\n",
    "\n",
    "# Run for the same list of cmes, save to file \n",
    "tag = 'test'\n",
    "model2D.solve(cme_list, save=True, tag=tag) \n",
    "\n",
    "# Make an MP4 of the solution with CME\n",
    "model2D.animate('cme', tag)"
   ]
  },
  {
   "cell_type": "code",
   "execution_count": null,
   "metadata": {},
   "outputs": [],
   "source": [
    "# Show both solutions match along the selected longitude\n",
    "# Find index of the selected longitude, a time, and approx 1AU.\n",
    "id_lon = np.argmin(np.abs(model2D.lon.value - model1D.lon.value))\n",
    "id_t = 100\n",
    "id_r = np.argmin(np.abs(model2D.r.value - 215))\n",
    "\n",
    "fig, ax = plt.subplots(1,2, figsize=(12.5,6.25))\n",
    "ax[0].plot(model1D.r, model1D.v_grid_cme[id_t, :], 'k-', label='1D')\n",
    "ax[0].plot(model2D.r, model2D.v_grid_cme[id_t, :, id_lon], 'r--', label='2D')\n",
    "\n",
    "ax[1].plot(model1D.time_out.to(u.day), model1D.v_grid_cme[:, id_r], 'k-', label='1D')\n",
    "ax[1].plot(model2D.time_out.to(u.day), model2D.v_grid_cme[:, id_r, id_lon], 'r--', label='2D')\n",
    "\n",
    "for a in ax:\n",
    "    a.legend()\n",
    "    a.set_ylim(200,1200)\n",
    "    a.set_ylabel('Solar Wind Speed (km/s)')\n",
    "    \n",
    "ax[0].set_xlabel('Radial distance (solar radii)')\n",
    "ax[1].set_xlabel('Time (days)')\n",
    "ax[1].yaxis.tick_right()\n",
    "ax[1].yaxis.set_label_position(\"right\")\n",
    "    \n",
    "fig.subplots_adjust(left=0.05, bottom=0.05, right=0.95, top=0.95, wspace=0.025)\n",
    "\n"
   ]
  }
 ],
 "metadata": {
  "kernelspec": {
   "display_name": "Python 3",
   "language": "python",
   "name": "python3"
  },
  "language_info": {
   "codemirror_mode": {
    "name": "ipython",
    "version": 3
   },
   "file_extension": ".py",
   "mimetype": "text/x-python",
   "name": "python",
   "nbconvert_exporter": "python",
   "pygments_lexer": "ipython3",
   "version": "3.7.3"
  }
 },
 "nbformat": 4,
 "nbformat_minor": 4
}
