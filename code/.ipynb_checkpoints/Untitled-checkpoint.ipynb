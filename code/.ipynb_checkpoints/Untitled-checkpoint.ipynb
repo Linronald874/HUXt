{
 "cells": [
  {
   "cell_type": "code",
   "execution_count": 1,
   "metadata": {},
   "outputs": [],
   "source": [
    "import numpy as np\n",
    "import matplotlib.pyplot as plt\n",
    "import HUXt as H\n",
    "import astropy.units as u\n",
    "import h5py\n",
    "%matplotlib inline"
   ]
  },
  {
   "cell_type": "code",
   "execution_count": 8,
   "metadata": {},
   "outputs": [
    {
     "name": "stderr",
     "output_type": "stream",
     "text": [
      "C:\\Users\\yq904481\\PyCharmProjects\\HUXt\\code\\HUXt.py:323: H5pyDeprecationWarning: dataset.value has been deprecated. Use dataset[()] instead.\n",
      "  v_boundary = data['v_boundary'].value * u.Unit(data['v_boundary'].attrs['unit'])\n",
      "C:\\Users\\yq904481\\PyCharmProjects\\HUXt\\code\\HUXt.py:327: H5pyDeprecationWarning: dataset.value has been deprecated. Use dataset[()] instead.\n",
      "  t_launch = cmedata['t_launch'].value\n",
      "C:\\Users\\yq904481\\PyCharmProjects\\HUXt\\code\\HUXt.py:328: H5pyDeprecationWarning: dataset.value has been deprecated. Use dataset[()] instead.\n",
      "  lon = np.rad2deg(cmedata['longitude'].value)\n",
      "C:\\Users\\yq904481\\PyCharmProjects\\HUXt\\code\\HUXt.py:329: H5pyDeprecationWarning: dataset.value has been deprecated. Use dataset[()] instead.\n",
      "  width = np.rad2deg(cmedata['width'].value)\n"
     ]
    },
    {
     "ename": "TypeError",
     "evalue": "unsupported operand type(s) for *: 'Dataset' and 'PrefixUnit'",
     "output_type": "error",
     "traceback": [
      "\u001b[1;31m---------------------------------------------------------------------------\u001b[0m",
      "\u001b[1;31mTypeError\u001b[0m                                 Traceback (most recent call last)",
      "\u001b[1;32m<ipython-input-8-35505dfdd9ab>\u001b[0m in \u001b[0;36m<module>\u001b[1;34m\u001b[0m\n\u001b[1;32m----> 1\u001b[1;33m \u001b[0mvb\u001b[0m\u001b[1;33m,\u001b[0m \u001b[0mcme\u001b[0m\u001b[1;33m,\u001b[0m \u001b[0mmodel\u001b[0m \u001b[1;33m=\u001b[0m \u001b[0mH\u001b[0m\u001b[1;33m.\u001b[0m\u001b[0mload_cone_cme_run\u001b[0m\u001b[1;33m(\u001b[0m\u001b[1;34m'C:\\\\Users\\\\yq904481\\\\PycharmProjects\\\\HUXt\\\\data\\\\HUXt2DCME_test.hdf5'\u001b[0m\u001b[1;33m)\u001b[0m\u001b[1;33m\u001b[0m\u001b[1;33m\u001b[0m\u001b[0m\n\u001b[0m\u001b[0;32m      2\u001b[0m \u001b[1;31m#f = h5py.File('C:\\\\Users\\\\yq904481\\\\PycharmProjects\\\\HUXt\\\\data\\\\HUXt2DCME_test.hdf5', 'r')\u001b[0m\u001b[1;33m\u001b[0m\u001b[1;33m\u001b[0m\u001b[1;33m\u001b[0m\u001b[0m\n",
      "\u001b[1;32m~\\PyCharmProjects\\HUXt\\code\\HUXt.py\u001b[0m in \u001b[0;36mload_cone_cme_run\u001b[1;34m(filepath)\u001b[0m\n\u001b[0;32m    328\u001b[0m         \u001b[0mlon\u001b[0m \u001b[1;33m=\u001b[0m \u001b[0mnp\u001b[0m\u001b[1;33m.\u001b[0m\u001b[0mrad2deg\u001b[0m\u001b[1;33m(\u001b[0m\u001b[0mcmedata\u001b[0m\u001b[1;33m[\u001b[0m\u001b[1;34m'longitude'\u001b[0m\u001b[1;33m]\u001b[0m\u001b[1;33m.\u001b[0m\u001b[0mvalue\u001b[0m\u001b[1;33m)\u001b[0m\u001b[1;33m\u001b[0m\u001b[1;33m\u001b[0m\u001b[0m\n\u001b[0;32m    329\u001b[0m         \u001b[0mwidth\u001b[0m \u001b[1;33m=\u001b[0m \u001b[0mnp\u001b[0m\u001b[1;33m.\u001b[0m\u001b[0mrad2deg\u001b[0m\u001b[1;33m(\u001b[0m\u001b[0mcmedata\u001b[0m\u001b[1;33m[\u001b[0m\u001b[1;34m'width'\u001b[0m\u001b[1;33m]\u001b[0m\u001b[1;33m.\u001b[0m\u001b[0mvalue\u001b[0m\u001b[1;33m)\u001b[0m\u001b[1;33m\u001b[0m\u001b[1;33m\u001b[0m\u001b[0m\n\u001b[1;32m--> 330\u001b[1;33m         \u001b[0mthickness\u001b[0m \u001b[1;33m=\u001b[0m \u001b[1;33m(\u001b[0m\u001b[0mcmedata\u001b[0m\u001b[1;33m[\u001b[0m\u001b[1;34m'thickness'\u001b[0m\u001b[1;33m]\u001b[0m\u001b[1;33m)\u001b[0m \u001b[1;33m*\u001b[0m \u001b[0mu\u001b[0m\u001b[1;33m.\u001b[0m\u001b[0mUnit\u001b[0m\u001b[1;33m(\u001b[0m\u001b[0mcmedata\u001b[0m\u001b[1;33m[\u001b[0m\u001b[1;34m'thickness'\u001b[0m\u001b[1;33m]\u001b[0m\u001b[1;33m.\u001b[0m\u001b[0mattrs\u001b[0m\u001b[1;33m[\u001b[0m\u001b[1;34m'unit'\u001b[0m\u001b[1;33m]\u001b[0m\u001b[1;33m)\u001b[0m\u001b[1;33m\u001b[0m\u001b[1;33m\u001b[0m\u001b[0m\n\u001b[0m\u001b[0;32m    331\u001b[0m         \u001b[0mthickness\u001b[0m \u001b[1;33m=\u001b[0m \u001b[0mthickness\u001b[0m\u001b[1;33m.\u001b[0m\u001b[0mto\u001b[0m\u001b[1;33m(\u001b[0m\u001b[1;34m'solRad'\u001b[0m\u001b[1;33m)\u001b[0m\u001b[1;33m.\u001b[0m\u001b[0mvalue\u001b[0m\u001b[1;33m\u001b[0m\u001b[1;33m\u001b[0m\u001b[0m\n\u001b[0;32m    332\u001b[0m         \u001b[0mv\u001b[0m \u001b[1;33m=\u001b[0m \u001b[0mcmedata\u001b[0m\u001b[1;33m[\u001b[0m\u001b[1;34m'v'\u001b[0m\u001b[1;33m]\u001b[0m\u001b[1;33m.\u001b[0m\u001b[0mvalue\u001b[0m\u001b[1;33m\u001b[0m\u001b[1;33m\u001b[0m\u001b[0m\n",
      "\u001b[1;31mTypeError\u001b[0m: unsupported operand type(s) for *: 'Dataset' and 'PrefixUnit'"
     ]
    }
   ],
   "source": [
    "vb, cme, model = H.load_cone_cme_run('C:\\\\Users\\\\yq904481\\\\PycharmProjects\\\\HUXt\\\\data\\\\HUXt2DCME_test.hdf5')\n",
    "#f = h5py.File('C:\\\\Users\\\\yq904481\\\\PycharmProjects\\\\HUXt\\\\data\\\\HUXt2DCME_test.hdf5', 'r')\n"
   ]
  },
  {
   "cell_type": "code",
   "execution_count": 3,
   "metadata": {},
   "outputs": [
    {
     "name": "stdout",
     "output_type": "stream",
     "text": [
      "Warning: C:\\Users\\yq904481\\PycharmProjects\\HUXt\\data\\HUXt2DCME_test.hdf5 already exists. Overwriting\n"
     ]
    }
   ],
   "source": [
    "#v_boundary = np.ones(128) * 400 * u.km/u.s\n",
    "#v_boundary[10:20] = v_boundary[10:20] * 2.0\n",
    "#v_boundary[60:80] = v_boundary[60:80] * 2.0\n",
    "#cme = H.ConeCME()\n",
    "#cone_model = H.HUXt2DCME(dt_scale=4)\n",
    "#cone_model.solve_cone_cme(v_boundary, cme, save=True, tag='test')    "
   ]
  },
  {
   "cell_type": "raw",
   "metadata": {},
   "source": [
    "To do list:\n",
    "\n",
    "Data format for input v boundary\n",
    "\n",
    "\n",
    "CME tracer field with advection?\n",
    "\n",
    "Visualisations"
   ]
  }
 ],
 "metadata": {
  "kernelspec": {
   "display_name": "Python 3",
   "language": "python",
   "name": "python3"
  },
  "language_info": {
   "codemirror_mode": {
    "name": "ipython",
    "version": 3
   },
   "file_extension": ".py",
   "mimetype": "text/x-python",
   "name": "python",
   "nbconvert_exporter": "python",
   "pygments_lexer": "ipython3",
   "version": "3.7.3"
  }
 },
 "nbformat": 4,
 "nbformat_minor": 4
}
