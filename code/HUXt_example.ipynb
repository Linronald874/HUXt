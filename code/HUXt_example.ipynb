{
 "cells": [
  {
   "cell_type": "code",
   "execution_count": 1,
   "metadata": {},
   "outputs": [],
   "source": [
    "import numpy as np\n",
    "import matplotlib.pyplot as plt\n",
    "import matplotlib as mpl\n",
    "import HUXt as H\n",
    "import astropy.units as u\n",
    "%matplotlib inline"
   ]
  },
  {
   "cell_type": "code",
   "execution_count": 2,
   "metadata": {},
   "outputs": [
    {
     "name": "stdout",
     "output_type": "stream",
     "text": [
      "Moviepy - Building video C:\\Users\\yq904481\\research\\repos\\HUXt\\figures\\HUXt2D\\HUXt2D_CR2001_test_3_movie.mp4.\n",
      "Moviepy - Writing video C:\\Users\\yq904481\\research\\repos\\HUXt\\figures\\HUXt2D\\HUXt2D_CR2001_test_3_movie.mp4\n",
      "\n"
     ]
    },
    {
     "name": "stderr",
     "output_type": "stream",
     "text": [
      "                                                                                                                       \r"
     ]
    },
    {
     "name": "stdout",
     "output_type": "stream",
     "text": [
      "Moviepy - Done !\n",
      "Moviepy - video ready C:\\Users\\yq904481\\research\\repos\\HUXt\\figures\\HUXt2D\\HUXt2D_CR2001_test_3_movie.mp4\n"
     ]
    }
   ],
   "source": [
    "# Set up HUXt to run a 5 day simulation of carrington rotations 2000-2002, and output model data every 4 timesteps (about 35min)\n",
    "cr_num in [2001]:\n",
    "model = H.HUXt2D(cr_num, simtime=5, dt_scale=4)\n",
    "\n",
    "# Get a list of different CMEs with random launch longitudes and times\n",
    "cme_list=[]\n",
    "launch_lons = np.random.rand(5) * 360\n",
    "daysec = 86400\n",
    "launch_times = 0.25  + np.random.rand(5) * 3.5 * daysec\n",
    "for lon, t_launch in zip(launch_lons, launch_times):\n",
    "    cme = H.ConeCME(t_launch=t_launch, longitude=lon, width=30, v=1000, thickness=10)\n",
    "    cme_list.append(cme)\n",
    "\n",
    "# Run HUXt for these cmes, save to file \n",
    "tag = 'test_3'\n",
    "model.solve(cme_list, save=True, tag=tag) \n",
    "\n",
    "# Make an MP4 of the solution with CME\n",
    "model.animate('cme', tag)\n",
    "\n",
    "# Output a plot of the model output at a few timesteps\n",
    "for t in [25,50,75,100]:\n",
    "    model.plot(t, save=True, tag='test_2')"
   ]
  },
  {
   "cell_type": "raw",
   "metadata": {},
   "source": [
    "# Convert the Mat's boundary conidtion files into hdf5 files\n",
    "\n",
    "lon, dlon, Nlon = H.longitude_grid()\n",
    "\n",
    "root = \"C:\\\\Users\\\\yq904481\\\\research\\\\repos\\\\HUXt\\\\data\\\\boundary_conditions\"\n",
    "search_str = os.path.join(root,\"CR*_veq.dat\" )    \n",
    "in_files = glob.glob(search_str)\n",
    "kms = u.km / u.s\n",
    "for file in in_files:\n",
    "    fn  = os.path.basename(file)\n",
    "    cr_tag = fn.split('_')[0]\n",
    "    cr_num = np.int32(cr_tag.split('R')[1])\n",
    "    v = np.loadtxt(file)\n",
    "    v = v * kms\n",
    "    \n",
    "    # Ouput a HDF5 file with this data\n",
    "    out_fn = os.path.join(root, cr_tag+\".hdf5\")\n",
    "    out_file = h5py.File(out_fn, 'w')\n",
    "    \n",
    "    # Save the input boundary speeds and corresponding carrington longitudes\n",
    "    dset = out_file.create_dataset(\"v_boundary\", data=v.value)\n",
    "    dset.attrs['unit'] = v.unit.to_string()\n",
    "    out_file.flush()\n",
    "    \n",
    "    dset = out_file.create_dataset(\"longitude\", data=lon.value)\n",
    "    dset.attrs['unit'] = lon.unit.to_string()\n",
    "    out_file.flush()\n",
    "    out_file.close()"
   ]
  }
 ],
 "metadata": {
  "kernelspec": {
   "display_name": "Python 3",
   "language": "python",
   "name": "python3"
  },
  "language_info": {
   "codemirror_mode": {
    "name": "ipython",
    "version": 3
   },
   "file_extension": ".py",
   "mimetype": "text/x-python",
   "name": "python",
   "nbconvert_exporter": "python",
   "pygments_lexer": "ipython3",
   "version": "3.7.3"
  }
 },
 "nbformat": 4,
 "nbformat_minor": 4
}
