{
 "cells": [
  {
   "cell_type": "code",
   "execution_count": 1,
   "metadata": {},
   "outputs": [],
   "source": [
    "import numpy as np\n",
    "import matplotlib.pyplot as plt\n",
    "import matplotlib as mpl\n",
    "from moviepy.video.io.bindings import mplfig_to_npimage\n",
    "import moviepy.editor as mpy\n",
    "import HUXt as H\n",
    "import astropy.units as u\n",
    "import h5py\n",
    "%matplotlib inline"
   ]
  },
  {
   "cell_type": "raw",
   "metadata": {},
   "source": [
    "v_boundary = np.ones(128) * 400 * u.km/u.s\n",
    "\n",
    "v_boundary[10:20] = v_boundary[10:20] * 2.0\n",
    "v_boundary[60:80] = v_boundary[60:80] * 2.0\n",
    "noise= 0.2 * np.random.randn(128)\n",
    "v_boundary = (1.0 + noise) * v_boundary\n",
    "\n",
    "cone_model = H.HUXt2DCME(simtime=5, dt_scale=4)\n",
    "daysec = 86400\n",
    "cme1 = H.ConeCME(t_launch=0.5*daysec, longitude=0, width=40, v=700, thickness=10)\n",
    "cme2 = H.ConeCME(t_launch=daysec, longitude=90, width=40, v=1000, thickness=20)\n",
    "cme3 = H.ConeCME(t_launch=1.5*daysec, longitude=180, width=40, v=1500, thickness=10)\n",
    "cme4 = H.ConeCME(t_launch=2*daysec, longitude=270, width=40, v=900, thickness=20)\n",
    "cme_list = [cme1, cme2, cme3, cme4]\n",
    "tag = \"multi_cme_test\"\n",
    "cone_model.solve_cone_cme(v_boundary, cme_list, save=True, tag=tag) \n",
    "cone_model.animate_plot(tag)\n",
    "            "
   ]
  },
  {
   "cell_type": "code",
   "execution_count": null,
   "metadata": {},
   "outputs": [
    {
     "name": "stdout",
     "output_type": "stream",
     "text": [
      "Moviepy - Building video C:\\Users\\yq904481\\PycharmProjects\\HUXt\\figures\\HUXt2DCME_test_movie.mp4.\n",
      "Moviepy - Writing video C:\\Users\\yq904481\\PycharmProjects\\HUXt\\figures\\HUXt2DCME_test_movie.mp4\n",
      "\n"
     ]
    },
    {
     "name": "stderr",
     "output_type": "stream",
     "text": [
      "t:  85%|█████████████████████████████████████████████████████████▏         | 205/240 [01:12<00:12,  2.71it/s, now=None]"
     ]
    }
   ],
   "source": [
    "vb, cme, cone_model = H.load_cone_cme_run('C:\\\\Users\\\\yq904481\\\\PycharmProjects\\\\HUXt\\\\data\\\\HUXt2DCME_multi_cme_test.hdf5')\n",
    "cone_model.animate_plot('test')"
   ]
  }
 ],
 "metadata": {
  "kernelspec": {
   "display_name": "Python 3",
   "language": "python",
   "name": "python3"
  },
  "language_info": {
   "codemirror_mode": {
    "name": "ipython",
    "version": 3
   },
   "file_extension": ".py",
   "mimetype": "text/x-python",
   "name": "python",
   "nbconvert_exporter": "python",
   "pygments_lexer": "ipython3",
   "version": "3.7.3"
  }
 },
 "nbformat": 4,
 "nbformat_minor": 4
}
