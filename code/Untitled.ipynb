{
 "cells": [
  {
   "cell_type": "code",
   "execution_count": 1,
   "metadata": {},
   "outputs": [],
   "source": [
    "import numpy as np\n",
    "import matplotlib.pyplot as plt\n",
    "import matplotlib as mpl\n",
    "from moviepy.video.io.bindings import mplfig_to_npimage\n",
    "import moviepy.editor as mpy\n",
    "import HUXt as H\n",
    "import astropy.units as u\n",
    "import h5py\n",
    "%matplotlib inline"
   ]
  },
  {
   "cell_type": "code",
   "execution_count": 4,
   "metadata": {},
   "outputs": [
    {
     "name": "stdout",
     "output_type": "stream",
     "text": [
      "Warning: C:\\Users\\yq904481\\PycharmProjects\\HUXt\\data\\HUXt2DCME_v500_l000_w20.hdf5 already exists. Overwriting\n",
      "Moviepy - Building video C:\\Users\\yq904481\\PycharmProjects\\HUXt\\figures\\HUXt2DCME_v500_l000_w20_movie.mp4.\n",
      "Moviepy - Writing video C:\\Users\\yq904481\\PycharmProjects\\HUXt\\figures\\HUXt2DCME_v500_l000_w20_movie.mp4\n",
      "\n"
     ]
    },
    {
     "name": "stderr",
     "output_type": "stream",
     "text": [
      "                                                                                                                       \r"
     ]
    },
    {
     "name": "stdout",
     "output_type": "stream",
     "text": [
      "Moviepy - Done !\n",
      "Moviepy - video ready C:\\Users\\yq904481\\PycharmProjects\\HUXt\\figures\\HUXt2DCME_v500_l000_w20_movie.mp4\n",
      "Moviepy - Building video C:\\Users\\yq904481\\PycharmProjects\\HUXt\\figures\\HUXt2DCME_v500_l090_w20_movie.mp4.\n",
      "Moviepy - Writing video C:\\Users\\yq904481\\PycharmProjects\\HUXt\\figures\\HUXt2DCME_v500_l090_w20_movie.mp4\n",
      "\n"
     ]
    },
    {
     "name": "stderr",
     "output_type": "stream",
     "text": [
      "                                                                                                                       \r"
     ]
    },
    {
     "name": "stdout",
     "output_type": "stream",
     "text": [
      "Moviepy - Done !\n",
      "Moviepy - video ready C:\\Users\\yq904481\\PycharmProjects\\HUXt\\figures\\HUXt2DCME_v500_l090_w20_movie.mp4\n",
      "Moviepy - Building video C:\\Users\\yq904481\\PycharmProjects\\HUXt\\figures\\HUXt2DCME_v500_l000_w40_movie.mp4.\n",
      "Moviepy - Writing video C:\\Users\\yq904481\\PycharmProjects\\HUXt\\figures\\HUXt2DCME_v500_l000_w40_movie.mp4\n",
      "\n"
     ]
    },
    {
     "name": "stderr",
     "output_type": "stream",
     "text": [
      "                                                                                                                       \r"
     ]
    },
    {
     "name": "stdout",
     "output_type": "stream",
     "text": [
      "Moviepy - Done !\n",
      "Moviepy - video ready C:\\Users\\yq904481\\PycharmProjects\\HUXt\\figures\\HUXt2DCME_v500_l000_w40_movie.mp4\n",
      "Moviepy - Building video C:\\Users\\yq904481\\PycharmProjects\\HUXt\\figures\\HUXt2DCME_v500_l090_w40_movie.mp4.\n",
      "Moviepy - Writing video C:\\Users\\yq904481\\PycharmProjects\\HUXt\\figures\\HUXt2DCME_v500_l090_w40_movie.mp4\n",
      "\n"
     ]
    },
    {
     "name": "stderr",
     "output_type": "stream",
     "text": [
      "                                                                                                                       \r"
     ]
    },
    {
     "name": "stdout",
     "output_type": "stream",
     "text": [
      "Moviepy - Done !\n",
      "Moviepy - video ready C:\\Users\\yq904481\\PycharmProjects\\HUXt\\figures\\HUXt2DCME_v500_l090_w40_movie.mp4\n",
      "Moviepy - Building video C:\\Users\\yq904481\\PycharmProjects\\HUXt\\figures\\HUXt2DCME_v1000_l000_w20_movie.mp4.\n",
      "Moviepy - Writing video C:\\Users\\yq904481\\PycharmProjects\\HUXt\\figures\\HUXt2DCME_v1000_l000_w20_movie.mp4\n",
      "\n"
     ]
    },
    {
     "name": "stderr",
     "output_type": "stream",
     "text": [
      "                                                                                                                       \r"
     ]
    },
    {
     "name": "stdout",
     "output_type": "stream",
     "text": [
      "Moviepy - Done !\n",
      "Moviepy - video ready C:\\Users\\yq904481\\PycharmProjects\\HUXt\\figures\\HUXt2DCME_v1000_l000_w20_movie.mp4\n",
      "Moviepy - Building video C:\\Users\\yq904481\\PycharmProjects\\HUXt\\figures\\HUXt2DCME_v1000_l090_w20_movie.mp4.\n",
      "Moviepy - Writing video C:\\Users\\yq904481\\PycharmProjects\\HUXt\\figures\\HUXt2DCME_v1000_l090_w20_movie.mp4\n",
      "\n"
     ]
    },
    {
     "name": "stderr",
     "output_type": "stream",
     "text": [
      "                                                                                                                       \r"
     ]
    },
    {
     "name": "stdout",
     "output_type": "stream",
     "text": [
      "Moviepy - Done !\n",
      "Moviepy - video ready C:\\Users\\yq904481\\PycharmProjects\\HUXt\\figures\\HUXt2DCME_v1000_l090_w20_movie.mp4\n",
      "Moviepy - Building video C:\\Users\\yq904481\\PycharmProjects\\HUXt\\figures\\HUXt2DCME_v1000_l000_w40_movie.mp4.\n",
      "Moviepy - Writing video C:\\Users\\yq904481\\PycharmProjects\\HUXt\\figures\\HUXt2DCME_v1000_l000_w40_movie.mp4\n",
      "\n"
     ]
    },
    {
     "name": "stderr",
     "output_type": "stream",
     "text": [
      "                                                                                                                       \r"
     ]
    },
    {
     "name": "stdout",
     "output_type": "stream",
     "text": [
      "Moviepy - Done !\n",
      "Moviepy - video ready C:\\Users\\yq904481\\PycharmProjects\\HUXt\\figures\\HUXt2DCME_v1000_l000_w40_movie.mp4\n",
      "Moviepy - Building video C:\\Users\\yq904481\\PycharmProjects\\HUXt\\figures\\HUXt2DCME_v1000_l090_w40_movie.mp4.\n",
      "Moviepy - Writing video C:\\Users\\yq904481\\PycharmProjects\\HUXt\\figures\\HUXt2DCME_v1000_l090_w40_movie.mp4\n",
      "\n"
     ]
    },
    {
     "name": "stderr",
     "output_type": "stream",
     "text": [
      "                                                                                                                       \r"
     ]
    },
    {
     "name": "stdout",
     "output_type": "stream",
     "text": [
      "Moviepy - Done !\n",
      "Moviepy - video ready C:\\Users\\yq904481\\PycharmProjects\\HUXt\\figures\\HUXt2DCME_v1000_l090_w40_movie.mp4\n"
     ]
    }
   ],
   "source": [
    "v_boundary = np.ones(128) * 400 * u.km/u.s\n",
    "v_boundary[10:20] = v_boundary[10:20] * 2.0\n",
    "v_boundary[60:80] = v_boundary[60:80] * 2.0\n",
    "\n",
    "cone_model = H.HUXt2DCME(simtime=2, dt_scale=4)\n",
    "for v in [500, 1000]:\n",
    "    for wid in [20, 40]:\n",
    "        for lon in [0, 90]:\n",
    "            cme = H.ConeCME(t_launch=1000, longitude=lon, width=wid, v=v, thickness=10)\n",
    "            tag = \"v{:03d}_l{:03d}_w{:02d}\".format(v,lon,wid)\n",
    "            cone_model.solve_cone_cme(v_boundary, cme, save=True, tag=tag) \n",
    "            cone_model.animate_plot(tag)\n",
    "            "
   ]
  },
  {
   "cell_type": "code",
   "execution_count": null,
   "metadata": {},
   "outputs": [],
   "source": [
    "#vb, cme,cone_model = H.load_cone_cme_run('C:\\\\Users\\\\yq904481\\\\PycharmProjects\\\\HUXt\\\\data\\\\HUXt2DCME_test2.hdf5')"
   ]
  },
  {
   "cell_type": "code",
   "execution_count": null,
   "metadata": {},
   "outputs": [],
   "source": [
    "fig, ax = cone_model.plot_frame(34)"
   ]
  },
  {
   "cell_type": "raw",
   "metadata": {},
   "source": [
    "To do list:\n",
    "Nice:\n",
    "Add in multiple CMEs?\n",
    "CME tracer field with advection?"
   ]
  }
 ],
 "metadata": {
  "kernelspec": {
   "display_name": "Python 3",
   "language": "python",
   "name": "python3"
  },
  "language_info": {
   "codemirror_mode": {
    "name": "ipython",
    "version": 3
   },
   "file_extension": ".py",
   "mimetype": "text/x-python",
   "name": "python",
   "nbconvert_exporter": "python",
   "pygments_lexer": "ipython3",
   "version": "3.7.3"
  }
 },
 "nbformat": 4,
 "nbformat_minor": 4
}
