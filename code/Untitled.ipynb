{
 "cells": [
  {
   "cell_type": "code",
   "execution_count": 1,
   "metadata": {},
   "outputs": [],
   "source": [
    "import numpy as np\n",
    "import matplotlib.pyplot as plt\n",
    "import HUXt as H\n",
    "import astropy.units as u\n",
    "import h5py\n",
    "%matplotlib inline"
   ]
  },
  {
   "cell_type": "code",
   "execution_count": 2,
   "metadata": {},
   "outputs": [],
   "source": [
    "vb, cme, model = H.load_cone_cme_run('C:\\\\Users\\\\yq904481\\\\PycharmProjects\\\\HUXt\\\\data\\\\HUXt2DCME_test.hdf5')\n",
    "#f = h5py.File('C:\\\\Users\\\\yq904481\\\\PycharmProjects\\\\HUXt\\\\data\\\\HUXt2DCME_test.hdf5', 'r')\n"
   ]
  },
  {
   "cell_type": "code",
   "execution_count": 8,
   "metadata": {},
   "outputs": [
    {
     "data": {
      "text/plain": [
       "<matplotlib.contour.QuadContourSet at 0x23b4c1ffc18>"
      ]
     },
     "execution_count": 8,
     "metadata": {},
     "output_type": "execute_result"
    },
    {
     "data": {
      "image/png": "[encoded data removed]",
      "text/plain": [
       "<Figure size 432x288 with 1 Axes>"
      ]
     },
     "metadata": {
      "needs_background": "light"
     },
     "output_type": "display_data"
    }
   ],
   "source": [
    "plt.contourf(model.v_grid_cme[20,:,:], vmin=250, vmax=800)"
   ]
  },
  {
   "cell_type": "code",
   "execution_count": 3,
   "metadata": {},
   "outputs": [],
   "source": [
    "#v_boundary = np.ones(128) * 400 * u.km/u.s\n",
    "#v_boundary[10:20] = v_boundary[10:20] * 2.0\n",
    "#v_boundary[60:80] = v_boundary[60:80] * 2.0\n",
    "#cme = H.ConeCME()\n",
    "#cone_model = H.HUXt2DCME(dt_scale=4)\n",
    "#cone_model.solve_cone_cme(v_boundary, cme, save=True, tag='test')    "
   ]
  },
  {
   "cell_type": "raw",
   "metadata": {},
   "source": [
    "To do list:\n",
    "\n",
    "Data format for input v boundary\n",
    "\n",
    "\n",
    "CME tracer field with advection?\n",
    "\n",
    "Visualisations"
   ]
  }
 ],
 "metadata": {
  "kernelspec": {
   "display_name": "Python 3",
   "language": "python",
   "name": "python3"
  },
  "language_info": {
   "codemirror_mode": {
    "name": "ipython",
    "version": 3
   },
   "file_extension": ".py",
   "mimetype": "text/x-python",
   "name": "python",
   "nbconvert_exporter": "python",
   "pygments_lexer": "ipython3",
   "version": "3.7.3"
  }
 },
 "nbformat": 4,
 "nbformat_minor": 4
}
