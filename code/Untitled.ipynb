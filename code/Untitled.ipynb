{
 "cells": [
  {
   "cell_type": "code",
   "execution_count": 1,
   "metadata": {},
   "outputs": [],
   "source": [
    "import numpy as np\n",
    "import matplotlib.pyplot as plt\n",
    "import HUXt as H\n",
    "import astropy.units as u\n",
    "from skimage.segmentation import find_boundaries\n",
    "import os\n",
    "import glob\n",
    "import pickle\n",
    "import h5py\n",
    "%matplotlib inline\n",
    "\n",
    "def make_animation(src, dst, tidy=True):\n",
    "    cmd = \" \".join([\"convert -delay 2.5 -loop 0 \", src, dst])\n",
    "    os.system(cmd)\n",
    "    if tidy:\n",
    "        files = glob.glob(src)\n",
    "        for f in files:\n",
    "            os.remove(f)\n",
    "    return"
   ]
  },
  {
   "cell_type": "code",
   "execution_count": 7,
   "metadata": {},
   "outputs": [],
   "source": []
  },
  {
   "cell_type": "code",
   "execution_count": 13,
   "metadata": {},
   "outputs": [
    {
     "name": "stdout",
     "output_type": "stream",
     "text": [
      "v:1200.0 km / s\n",
      "width:0.5235987755982988 rad\n",
      "radius:12049877.468256678 km\n",
      "thickness:6024938.734128339 km\n",
      "longitude:1.5707963267948966 rad\n",
      "t_launch:43200.0 s\n"
     ]
    }
   ],
   "source": [
    "for k,v in cme.__dict__.items():\n",
    "    print(\"{}:{}\".format(k, v))"
   ]
  },
  {
   "cell_type": "code",
   "execution_count": 16,
   "metadata": {},
   "outputs": [],
   "source": [
    "h = H.HUXt2D()"
   ]
  },
  {
   "cell_type": "raw",
   "metadata": {},
   "source": [
    "Maybe refactor into two or three classes  - 1D solution, 2-D ambient, and 2-D Cone? Then could more easily have "
   ]
  },
  {
   "cell_type": "raw",
   "metadata": {},
   "source": [
    "To do list:\n",
    "\n",
    "Data format for input v boundary\n",
    "\n",
    "\n",
    "CME tracer field with advection?\n",
    "\n",
    "Visualisations"
   ]
  },
  {
   "cell_type": "code",
   "execution_count": 2,
   "metadata": {},
   "outputs": [],
   "source": [
    "x = H.HUXt2D()"
   ]
  },
  {
   "cell_type": "code",
   "execution_count": 3,
   "metadata": {},
   "outputs": [],
   "source": [
    "v_boundary = np.ones(128) * 400 * u.km/u.s\n",
    "v_boundary[10:20] = v_boundary[10:20] * 2.0\n",
    "v_boundary[60:80] = v_boundary[60:80] * 2.0"
   ]
  },
  {
   "cell_type": "code",
   "execution_count": null,
   "metadata": {},
   "outputs": [],
   "source": [
    "cme = H.ConeCME()\n",
    "time, v_amb, v_cme = x.solve_cone_cme(v_boundary, cme, save=True)    "
   ]
  },
  {
   "cell_type": "code",
   "execution_count": null,
   "metadata": {},
   "outputs": [],
   "source": []
  },
  {
   "cell_type": "code",
   "execution_count": 5,
   "metadata": {},
   "outputs": [],
   "source": [
    "x.save(v_amb, v_cme)"
   ]
  },
  {
   "cell_type": "code",
   "execution_count": 6,
   "metadata": {},
   "outputs": [
    {
     "name": "stdout",
     "output_type": "stream",
     "text": [
      "<KeysViewHDF5 ['dlon', 'dr', 'longitude', 'phi_grid', 'radius', 'radius_grid', 'v_ambient', 'v_cone']>\n"
     ]
    }
   ],
   "source": [
    "filein = \"C:\\\\Users\\\\yq904481\\\\PyCharmProjects\\\\HUXt\\\\data\\\\HUXt_output.hdf5\"\n",
    "f = h5py.File(filein,'r')\n",
    "print(f.keys())"
   ]
  },
  {
   "cell_type": "code",
   "execution_count": 11,
   "metadata": {},
   "outputs": [
    {
     "data": {
      "text/plain": [
       "<\"longitude\" dimension 2 of HDF5 dataset at 1641370290048>"
      ]
     },
     "execution_count": 11,
     "metadata": {},
     "output_type": "execute_result"
    }
   ],
   "source": []
  },
  {
   "cell_type": "code",
   "execution_count": 5,
   "metadata": {},
   "outputs": [],
   "source": [
    "#out_dict = {'time':time, 'v_amb':v_amb, 'v_cme':v_cme}\n",
    "#with open(\"HUXt_ground_truth.pickle\",\"wb\") as pickle_out:\n",
    "#    pickle.dump(out_dict, pickle_out)\n"
   ]
  },
  {
   "cell_type": "code",
   "execution_count": 6,
   "metadata": {},
   "outputs": [
    {
     "name": "stdout",
     "output_type": "stream",
     "text": [
      "True\n",
      "True\n",
      "True\n"
     ]
    }
   ],
   "source": [
    "# Load in ground truth\n",
    "with open('HUXt_ground_truth.pickle', 'rb') as handle:\n",
    "    data = pickle.load(handle)\n",
    "    \n",
    "time_gt = data['time']\n",
    "v_amb_gt = data['v_amb']\n",
    "v_cme_gt = data['v_cme']\n",
    "\n",
    "print(np.allclose(time.value, time_gt.value))\n",
    "print(np.allclose(v_amb.value, v_amb_gt))\n",
    "print(np.allclose(v_cme.value, v_cme_gt))"
   ]
  },
  {
   "cell_type": "code",
   "execution_count": 7,
   "metadata": {},
   "outputs": [],
   "source": [
    "diff = v_amb.value - v_amb_gt\n",
    "for i in range(diff.shape[0]):\n",
    "    test = np.all(diff[i, :, :]==0.0)\n",
    "    if not test:\n",
    "        print(i)\n",
    "        \n",
    "#plt.contourf(diff[-1, :,:], vmin=-10, vmax=10, cmap='coolwarm')"
   ]
  },
  {
   "cell_type": "raw",
   "metadata": {},
   "source": [
    "for ii in range(v_cme.shape[0]):\n",
    "        \n",
    "    vc = v_cme[ii, :, :].value.copy()\n",
    "    va = v_amb[ii, :, :].value.copy()\n",
    "    \n",
    "    phi = x.phi.value\n",
    "    rad = x.r.value\n",
    "    fig, ax = plt.subplots(figsize=(7,7), subplot_kw=dict(projection='polar'))\n",
    "    ax.contourf(phi, rad, vc, levels=50, vmin=300, vmax=800)\n",
    "    # Find CME boundary\n",
    "    condition = (vc - va) > 20.0\n",
    "    if np.any(condition):\n",
    "        \n",
    "        boundary = find_boundaries(condition, connectivity=1, mode=\"inner\", background=0)\n",
    "        points = np.argwhere(boundary)\n",
    "        phi_b = phi[points[:, 1]]\n",
    "        rad_b = rad[points[:, 0]]\n",
    "        \n",
    "        pb = np.unique(phi_b)\n",
    "        r_lo = np.zeros(pb.shape)*np.NaN\n",
    "        r_hi = np.zeros(pb.shape)*np.NaN\n",
    "        for i, p in enumerate(pb):\n",
    "            id_p = phi_b == p\n",
    "            rad_sub = rad_b[id_p]\n",
    "\n",
    "            id_above = rad_sub > np.mean(rad_b)\n",
    "            if np.any(id_above):\n",
    "                rad_hi = rad_sub[id_above]\n",
    "                r_hi[i] = np.nanmax(rad_hi)\n",
    "\n",
    "            id_below = rad_sub <= np.mean(rad_b)\n",
    "            if np.any(id_below):\n",
    "                rad_lo = rad_sub[id_below]\n",
    "                r_lo[i] = np.nanmin(rad_lo)\n",
    "        \n",
    "        pb = np.hstack([pb, np.flipud(pb)])    \n",
    "        rb = np.hstack([r_hi, np.flipud(r_lo)])    \n",
    "        \n",
    "        ax.plot(pb, rb, 'r-')\n",
    "    \n",
    "    ax.set_ylim(0, 215)\n",
    "    ax.set_title(\"Simulation time: {:3.2f} days\".format(time[ii]/86400))\n",
    "        \n",
    "    fig_dir = \"C:\\\\Users\\\\yq904481\\\\PyCharmProjects\\\\HUXt\\\\figures\"\n",
    "    fig_name = \"HUXt_t{:03d}.png\".format(ii)\n",
    "    fig_path = os.path.join(fig_dir,fig_name)\n",
    "    fig.savefig(fig_path)\n",
    "    plt.close('all')\n"
   ]
  },
  {
   "cell_type": "raw",
   "metadata": {},
   "source": [
    "src = \"C:\\\\Users\\\\yq904481\\\\PyCharmProjects\\\\HUXt\\\\figures\\\\HUXt_t*.png\"\n",
    "dst = \"C:\\\\Users\\\\yq904481\\\\PyCharmProjects\\\\HUXt\\\\figures\\\\HUXt_test_animation.gif\"\n",
    "make_animation(src, dst, tidy=True)"
   ]
  }
 ],
 "metadata": {
  "kernelspec": {
   "display_name": "Python 3",
   "language": "python",
   "name": "python3"
  },
  "language_info": {
   "codemirror_mode": {
    "name": "ipython",
    "version": 3
   },
   "file_extension": ".py",
   "mimetype": "text/x-python",
   "name": "python",
   "nbconvert_exporter": "python",
   "pygments_lexer": "ipython3",
   "version": "3.7.3"
  }
 },
 "nbformat": 4,
 "nbformat_minor": 4
}
