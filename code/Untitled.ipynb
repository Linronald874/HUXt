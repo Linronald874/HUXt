{
 "cells": [
  {
   "cell_type": "code",
   "execution_count": 6,
   "metadata": {},
   "outputs": [],
   "source": [
    "import numpy as np\n",
    "import matplotlib.pyplot as plt\n",
    "import HUXt as H\n",
    "import astropy.units as u\n",
    "from skimage.segmentation import find_boundaries\n",
    "import os\n",
    "import glob\n",
    "import pickle\n",
    "import h5py\n",
    "%matplotlib inline\n",
    "\n",
    "def make_animation(src, dst, tidy=True):\n",
    "    cmd = \" \".join([\"convert -delay 2.5 -loop 0 \", src, dst])\n",
    "    os.system(cmd)\n",
    "    if tidy:\n",
    "        files = glob.glob(src)\n",
    "        for f in files:\n",
    "            os.remove(f)\n",
    "    return"
   ]
  },
  {
   "cell_type": "raw",
   "metadata": {},
   "source": [
    "To do list:\n",
    "\n",
    "Data format for input v boundary\n",
    "\n",
    "Data format of output, and metadata.\n",
    "CME tracer field with advection?\n",
    "\n",
    "Visualisations"
   ]
  },
  {
   "cell_type": "code",
   "execution_count": 2,
   "metadata": {},
   "outputs": [],
   "source": [
    "x = H.HUXt2D()"
   ]
  },
  {
   "cell_type": "code",
   "execution_count": 3,
   "metadata": {},
   "outputs": [],
   "source": [
    "v_boundary = np.ones(128) * 400 * u.km/u.s\n",
    "v_boundary[10:20] = v_boundary[10:20] * 2.0\n",
    "v_boundary[60:80] = v_boundary[60:80] * 2.0"
   ]
  },
  {
   "cell_type": "code",
   "execution_count": 4,
   "metadata": {},
   "outputs": [],
   "source": [
    "time, v_amb, v_cme = x.solve_cone_cme(v_boundary)    "
   ]
  },
  {
   "cell_type": "code",
   "execution_count": 5,
   "metadata": {},
   "outputs": [],
   "source": [
    "x.save(v_amb, v_cme)"
   ]
  },
  {
   "cell_type": "code",
   "execution_count": 8,
   "metadata": {},
   "outputs": [
    {
     "name": "stdout",
     "output_type": "stream",
     "text": [
      "<KeysViewHDF5 ['dlon', 'dr', 'longitude', 'phi_grid', 'radius', 'radius_grid', 'v_ambient', 'v_cone']>\n"
     ]
    }
   ],
   "source": [
    "filein = \"C:\\\\Users\\\\yq904481\\\\PyCharmProjects\\\\HUXt\\\\data\\\\HUXt_output.hdf5\"\n",
    "f = h5py.File(filein,'r')\n",
    "print(f.keys())"
   ]
  },
  {
   "cell_type": "code",
   "execution_count": 11,
   "metadata": {},
   "outputs": [
    {
     "name": "stderr",
     "output_type": "stream",
     "text": [
      "C:\\Anaconda3\\lib\\site-packages\\ipykernel_launcher.py:1: H5pyDeprecationWarning: dataset.value has been deprecated. Use dataset[()] instead.\n",
      "  \"\"\"Entry point for launching an IPython kernel.\n"
     ]
    },
    {
     "data": {
      "text/plain": [
       "array([[[400.        , 400.        , 400.        , ..., 400.        ,\n",
       "         400.        , 400.        ],\n",
       "        [397.76357186, 397.76357186, 397.76357186, ..., 397.76357186,\n",
       "         397.76357186, 397.76357186],\n",
       "        [395.63442906, 395.63442906, 395.63442906, ..., 395.63442906,\n",
       "         395.63442906, 395.63442906],\n",
       "        ...,\n",
       "        [691.61327576, 695.53290826, 695.62276965, ..., 593.32691364,\n",
       "         633.13409957, 670.0522934 ],\n",
       "        [692.36138763, 695.54248497, 695.6037596 , ..., 597.03605308,\n",
       "         636.65139117, 672.61081766],\n",
       "        [692.99022226, 695.5441873 , 695.5854196 , ..., 600.72039431,\n",
       "         640.1046134 , 675.02461344]],\n",
       "\n",
       "       [[400.        , 400.        , 400.        , ..., 400.        ,\n",
       "         400.        , 400.        ],\n",
       "        [397.76357186, 397.76357186, 397.76357186, ..., 397.76357186,\n",
       "         397.76357186, 397.76357186],\n",
       "        [395.63442906, 395.63442906, 395.63442906, ..., 395.63442906,\n",
       "         395.63442906, 395.63442906],\n",
       "        ...,\n",
       "        [691.30238919, 695.51888688, 695.62274232, ..., 592.21475408,\n",
       "         631.9961137 , 669.14200718],\n",
       "        [692.09585727, 695.53253156, 695.60374672, ..., 595.9239886 ,\n",
       "         635.526259  , 671.74422557],\n",
       "        [692.76601491, 695.53721785, 695.58541957, ..., 599.60906592,\n",
       "         638.99405846, 674.20396382]],\n",
       "\n",
       "       [[400.        , 400.        , 400.        , ..., 400.        ,\n",
       "         400.        , 400.        ],\n",
       "        [397.76357186, 397.76357186, 397.76357186, ..., 397.76357186,\n",
       "         397.76357186, 397.76357186],\n",
       "        [395.63442906, 395.63442906, 395.63442906, ..., 395.63442906,\n",
       "         395.63442906, 395.63442906],\n",
       "        ...,\n",
       "        [690.9746852 , 695.50296707, 695.62270737, ..., 591.1048366 ,\n",
       "         630.85663378, 668.21916838],\n",
       "        [691.8147367 , 695.52116376, 695.60372881, ..., 594.81397625,\n",
       "         634.39904081, 670.86408313],\n",
       "        [692.52756931, 695.52921086, 695.58541507, ..., 598.49958159,\n",
       "         637.8807825 , 673.3688327 ]],\n",
       "\n",
       "       ...,\n",
       "\n",
       "       [[400.        , 400.        , 400.        , ..., 400.        ,\n",
       "         400.        , 400.        ],\n",
       "        [397.76357186, 397.76357186, 397.76357186, ..., 397.76357186,\n",
       "         397.76357186, 397.76357186],\n",
       "        [395.63442906, 395.63442906, 395.63442906, ..., 395.63442906,\n",
       "         395.63442906, 395.63442906],\n",
       "        ...,\n",
       "        [347.81144106, 347.81146151, 347.81164511, ..., 347.81143894,\n",
       "         347.81143895, 347.81143911],\n",
       "        [347.80191882, 347.80195057, 347.80222498, ..., 347.80191539,\n",
       "         347.80191541, 347.80191568],\n",
       "        [347.79275084, 347.79279971, 347.79320615, ..., 347.79274535,\n",
       "         347.79274538, 347.79274582]],\n",
       "\n",
       "       [[400.        , 400.        , 400.        , ..., 400.        ,\n",
       "         400.        , 400.        ],\n",
       "        [397.76357186, 397.76357186, 397.76357186, ..., 397.76357186,\n",
       "         397.76357186, 397.76357186],\n",
       "        [395.63442906, 395.63442906, 395.63442906, ..., 395.63442906,\n",
       "         395.63442906, 395.63442906],\n",
       "        ...,\n",
       "        [347.81144092, 347.81146008, 347.81163293, ..., 347.81143894,\n",
       "         347.81143895, 347.8114391 ],\n",
       "        [347.80191859, 347.80194838, 347.80220699, ..., 347.80191539,\n",
       "         347.80191541, 347.80191566],\n",
       "        [347.79275048, 347.79279638, 347.79317985, ..., 347.79274535,\n",
       "         347.79274538, 347.79274579]],\n",
       "\n",
       "       [[400.        , 400.        , 400.        , ..., 400.        ,\n",
       "         400.        , 400.        ],\n",
       "        [397.76357186, 397.76357186, 397.76357186, ..., 397.76357186,\n",
       "         397.76357186, 397.76357186],\n",
       "        [395.63442906, 395.63442906, 395.63442906, ..., 395.63442906,\n",
       "         395.63442906, 395.63442906],\n",
       "        ...,\n",
       "        [347.81144079, 347.81145874, 347.81162143, ..., 347.81143894,\n",
       "         347.81143895, 347.81143909],\n",
       "        [347.80191838, 347.80194632, 347.80219002, ..., 347.80191539,\n",
       "         347.80191541, 347.80191564],\n",
       "        [347.79275014, 347.79279324, 347.793155  , ..., 347.79274534,\n",
       "         347.79274537, 347.79274576]]])"
      ]
     },
     "execution_count": 11,
     "metadata": {},
     "output_type": "execute_result"
    }
   ],
   "source": [
    "f['v_cone'].value"
   ]
  },
  {
   "cell_type": "code",
   "execution_count": 5,
   "metadata": {},
   "outputs": [],
   "source": [
    "#out_dict = {'time':time, 'v_amb':v_amb, 'v_cme':v_cme}\n",
    "#with open(\"HUXt_ground_truth.pickle\",\"wb\") as pickle_out:\n",
    "#    pickle.dump(out_dict, pickle_out)\n"
   ]
  },
  {
   "cell_type": "code",
   "execution_count": 6,
   "metadata": {},
   "outputs": [
    {
     "name": "stdout",
     "output_type": "stream",
     "text": [
      "True\n",
      "True\n",
      "True\n"
     ]
    }
   ],
   "source": [
    "# Load in ground truth\n",
    "with open('HUXt_ground_truth.pickle', 'rb') as handle:\n",
    "    data = pickle.load(handle)\n",
    "    \n",
    "time_gt = data['time']\n",
    "v_amb_gt = data['v_amb']\n",
    "v_cme_gt = data['v_cme']\n",
    "\n",
    "print(np.allclose(time.value, time_gt.value))\n",
    "print(np.allclose(v_amb.value, v_amb_gt))\n",
    "print(np.allclose(v_cme.value, v_cme_gt))"
   ]
  },
  {
   "cell_type": "code",
   "execution_count": 7,
   "metadata": {},
   "outputs": [],
   "source": [
    "diff = v_amb.value - v_amb_gt\n",
    "for i in range(diff.shape[0]):\n",
    "    test = np.all(diff[i, :, :]==0.0)\n",
    "    if not test:\n",
    "        print(i)\n",
    "        \n",
    "#plt.contourf(diff[-1, :,:], vmin=-10, vmax=10, cmap='coolwarm')"
   ]
  },
  {
   "cell_type": "raw",
   "metadata": {},
   "source": [
    "for ii in range(v_cme.shape[0]):\n",
    "        \n",
    "    vc = v_cme[ii, :, :].value.copy()\n",
    "    va = v_amb[ii, :, :].value.copy()\n",
    "    \n",
    "    phi = x.phi.value\n",
    "    rad = x.r.value\n",
    "    fig, ax = plt.subplots(figsize=(7,7), subplot_kw=dict(projection='polar'))\n",
    "    ax.contourf(phi, rad, vc, levels=50, vmin=300, vmax=800)\n",
    "    # Find CME boundary\n",
    "    condition = (vc - va) > 20.0\n",
    "    if np.any(condition):\n",
    "        \n",
    "        boundary = find_boundaries(condition, connectivity=1, mode=\"inner\", background=0)\n",
    "        points = np.argwhere(boundary)\n",
    "        phi_b = phi[points[:, 1]]\n",
    "        rad_b = rad[points[:, 0]]\n",
    "        \n",
    "        pb = np.unique(phi_b)\n",
    "        r_lo = np.zeros(pb.shape)*np.NaN\n",
    "        r_hi = np.zeros(pb.shape)*np.NaN\n",
    "        for i, p in enumerate(pb):\n",
    "            id_p = phi_b == p\n",
    "            rad_sub = rad_b[id_p]\n",
    "\n",
    "            id_above = rad_sub > np.mean(rad_b)\n",
    "            if np.any(id_above):\n",
    "                rad_hi = rad_sub[id_above]\n",
    "                r_hi[i] = np.nanmax(rad_hi)\n",
    "\n",
    "            id_below = rad_sub <= np.mean(rad_b)\n",
    "            if np.any(id_below):\n",
    "                rad_lo = rad_sub[id_below]\n",
    "                r_lo[i] = np.nanmin(rad_lo)\n",
    "        \n",
    "        pb = np.hstack([pb, np.flipud(pb)])    \n",
    "        rb = np.hstack([r_hi, np.flipud(r_lo)])    \n",
    "        \n",
    "        ax.plot(pb, rb, 'r-')\n",
    "    \n",
    "    ax.set_ylim(0, 215)\n",
    "    ax.set_title(\"Simulation time: {:3.2f} days\".format(time[ii]/86400))\n",
    "        \n",
    "    fig_dir = \"C:\\\\Users\\\\yq904481\\\\PyCharmProjects\\\\HUXt\\\\figures\"\n",
    "    fig_name = \"HUXt_t{:03d}.png\".format(ii)\n",
    "    fig_path = os.path.join(fig_dir,fig_name)\n",
    "    fig.savefig(fig_path)\n",
    "    plt.close('all')\n"
   ]
  },
  {
   "cell_type": "raw",
   "metadata": {},
   "source": [
    "src = \"C:\\\\Users\\\\yq904481\\\\PyCharmProjects\\\\HUXt\\\\figures\\\\HUXt_t*.png\"\n",
    "dst = \"C:\\\\Users\\\\yq904481\\\\PyCharmProjects\\\\HUXt\\\\figures\\\\HUXt_test_animation.gif\"\n",
    "make_animation(src, dst, tidy=True)"
   ]
  }
 ],
 "metadata": {
  "kernelspec": {
   "display_name": "Python 3",
   "language": "python",
   "name": "python3"
  },
  "language_info": {
   "codemirror_mode": {
    "name": "ipython",
    "version": 3
   },
   "file_extension": ".py",
   "mimetype": "text/x-python",
   "name": "python",
   "nbconvert_exporter": "python",
   "pygments_lexer": "ipython3",
   "version": "3.7.3"
  }
 },
 "nbformat": 4,
 "nbformat_minor": 4
}
